{
 "cells": [
  {
   "cell_type": "markdown",
   "source": [
    "# Monthly Member Compare Current Pull with Last Submission"
   ],
   "metadata": {}
  },
  {
   "cell_type": "code",
   "execution_count": 2,
   "source": [
    "import pandas as pd\r\n",
    "pd.set_option('display.max_columns', None)"
   ],
   "outputs": [],
   "metadata": {}
  },
  {
   "cell_type": "code",
   "execution_count": 3,
   "source": [
    "file_name = 'RX'\r\n",
    "\r\n",
    "path_prev = f'../data/past_submission/HP_{file_name}_20210921.txt'\r\n",
    "path_now = f'../output/HP_{file_name}_20211025.txt'\r\n",
    "\r\n",
    "dtype = {'provnbr':str, 'pharm_npi':str}\r\n",
    "\r\n",
    "df_prev = pd.read_csv(path_prev, sep='|', low_memory=False, dtype=dtype)\r\n",
    "df = pd.read_csv(path_now, sep='|', low_memory=False, dtype=dtype)"
   ],
   "outputs": [],
   "metadata": {}
  },
  {
   "cell_type": "code",
   "execution_count": 4,
   "source": [
    "print(df_prev.shape)\r\n",
    "display(df_prev.head(3))"
   ],
   "outputs": [
    {
     "output_type": "stream",
     "name": "stdout",
     "text": [
      "(256713, 13)\n"
     ]
    },
    {
     "output_type": "display_data",
     "data": {
      "text/html": [
       "<div>\n",
       "<style scoped>\n",
       "    .dataframe tbody tr th:only-of-type {\n",
       "        vertical-align: middle;\n",
       "    }\n",
       "\n",
       "    .dataframe tbody tr th {\n",
       "        vertical-align: top;\n",
       "    }\n",
       "\n",
       "    .dataframe thead th {\n",
       "        text-align: right;\n",
       "    }\n",
       "</style>\n",
       "<table border=\"1\" class=\"dataframe\">\n",
       "  <thead>\n",
       "    <tr style=\"text-align: right;\">\n",
       "      <th></th>\n",
       "      <th>memnbr</th>\n",
       "      <th>claim_id</th>\n",
       "      <th>provnbr</th>\n",
       "      <th>pres_fill_dt</th>\n",
       "      <th>ndc</th>\n",
       "      <th>days_suppl</th>\n",
       "      <th>claim_status</th>\n",
       "      <th>metric_qty</th>\n",
       "      <th>disp_qty</th>\n",
       "      <th>prov_npi</th>\n",
       "      <th>pharm_npi</th>\n",
       "      <th>source</th>\n",
       "      <th>src_ind</th>\n",
       "    </tr>\n",
       "  </thead>\n",
       "  <tbody>\n",
       "    <tr>\n",
       "      <th>0</th>\n",
       "      <td>NaN</td>\n",
       "      <td>3119954101280G</td>\n",
       "      <td>1427282516</td>\n",
       "      <td>20210128</td>\n",
       "      <td>57237004105</td>\n",
       "      <td>7</td>\n",
       "      <td>P</td>\n",
       "      <td>28000</td>\n",
       "      <td>28</td>\n",
       "      <td>1760779375</td>\n",
       "      <td>1427282516</td>\n",
       "      <td>P</td>\n",
       "      <td>NaN</td>\n",
       "    </tr>\n",
       "    <tr>\n",
       "      <th>1</th>\n",
       "      <td>NaN</td>\n",
       "      <td>3551583101293G</td>\n",
       "      <td>1427282516</td>\n",
       "      <td>20210129</td>\n",
       "      <td>29300034901</td>\n",
       "      <td>90</td>\n",
       "      <td>P</td>\n",
       "      <td>90000</td>\n",
       "      <td>90</td>\n",
       "      <td>1598795395</td>\n",
       "      <td>1427282516</td>\n",
       "      <td>P</td>\n",
       "      <td>NaN</td>\n",
       "    </tr>\n",
       "    <tr>\n",
       "      <th>2</th>\n",
       "      <td>NaN</td>\n",
       "      <td>3671413101292B</td>\n",
       "      <td>1427282516</td>\n",
       "      <td>20210129</td>\n",
       "      <td>88221905</td>\n",
       "      <td>12</td>\n",
       "      <td>P</td>\n",
       "      <td>6000</td>\n",
       "      <td>6</td>\n",
       "      <td>1881015162</td>\n",
       "      <td>1427282516</td>\n",
       "      <td>P</td>\n",
       "      <td>NaN</td>\n",
       "    </tr>\n",
       "  </tbody>\n",
       "</table>\n",
       "</div>"
      ],
      "text/plain": [
       "  memnbr        claim_id     provnbr  pres_fill_dt          ndc  days_suppl  \\\n",
       "0    NaN  3119954101280G  1427282516      20210128  57237004105           7   \n",
       "1    NaN  3551583101293G  1427282516      20210129  29300034901          90   \n",
       "2    NaN  3671413101292B  1427282516      20210129     88221905          12   \n",
       "\n",
       "  claim_status  metric_qty  disp_qty    prov_npi   pharm_npi source  src_ind  \n",
       "0            P       28000        28  1760779375  1427282516      P      NaN  \n",
       "1            P       90000        90  1598795395  1427282516      P      NaN  \n",
       "2            P        6000         6  1881015162  1427282516      P      NaN  "
      ]
     },
     "metadata": {}
    }
   ],
   "metadata": {}
  },
  {
   "cell_type": "code",
   "execution_count": 6,
   "source": [
    "print(df.shape)\r\n",
    "display(df.head(3))"
   ],
   "outputs": [
    {
     "output_type": "stream",
     "name": "stdout",
     "text": [
      "(273222, 13)\n"
     ]
    },
    {
     "output_type": "display_data",
     "data": {
      "text/html": [
       "<div>\n",
       "<style scoped>\n",
       "    .dataframe tbody tr th:only-of-type {\n",
       "        vertical-align: middle;\n",
       "    }\n",
       "\n",
       "    .dataframe tbody tr th {\n",
       "        vertical-align: top;\n",
       "    }\n",
       "\n",
       "    .dataframe thead th {\n",
       "        text-align: right;\n",
       "    }\n",
       "</style>\n",
       "<table border=\"1\" class=\"dataframe\">\n",
       "  <thead>\n",
       "    <tr style=\"text-align: right;\">\n",
       "      <th></th>\n",
       "      <th>memnbr</th>\n",
       "      <th>claim_id</th>\n",
       "      <th>provnbr</th>\n",
       "      <th>pres_fill_dt</th>\n",
       "      <th>ndc</th>\n",
       "      <th>days_suppl</th>\n",
       "      <th>claim_status</th>\n",
       "      <th>metric_qty</th>\n",
       "      <th>disp_qty</th>\n",
       "      <th>prov_npi</th>\n",
       "      <th>pharm_npi</th>\n",
       "      <th>source</th>\n",
       "      <th>src_ind</th>\n",
       "    </tr>\n",
       "  </thead>\n",
       "  <tbody>\n",
       "    <tr>\n",
       "      <th>0</th>\n",
       "      <td>NaN</td>\n",
       "      <td>3119954101280G</td>\n",
       "      <td>1427282516</td>\n",
       "      <td>20210128</td>\n",
       "      <td>57237004105</td>\n",
       "      <td>7</td>\n",
       "      <td>P</td>\n",
       "      <td>28000</td>\n",
       "      <td>28</td>\n",
       "      <td>1760779375</td>\n",
       "      <td>1427282516</td>\n",
       "      <td>P</td>\n",
       "      <td>NaN</td>\n",
       "    </tr>\n",
       "    <tr>\n",
       "      <th>1</th>\n",
       "      <td>NaN</td>\n",
       "      <td>3551583101293G</td>\n",
       "      <td>1427282516</td>\n",
       "      <td>20210129</td>\n",
       "      <td>29300034901</td>\n",
       "      <td>90</td>\n",
       "      <td>P</td>\n",
       "      <td>90000</td>\n",
       "      <td>90</td>\n",
       "      <td>1598795395</td>\n",
       "      <td>1427282516</td>\n",
       "      <td>P</td>\n",
       "      <td>NaN</td>\n",
       "    </tr>\n",
       "    <tr>\n",
       "      <th>2</th>\n",
       "      <td>NaN</td>\n",
       "      <td>3671413101292B</td>\n",
       "      <td>1427282516</td>\n",
       "      <td>20210129</td>\n",
       "      <td>88221905</td>\n",
       "      <td>12</td>\n",
       "      <td>P</td>\n",
       "      <td>6000</td>\n",
       "      <td>6</td>\n",
       "      <td>1881015162</td>\n",
       "      <td>1427282516</td>\n",
       "      <td>P</td>\n",
       "      <td>NaN</td>\n",
       "    </tr>\n",
       "  </tbody>\n",
       "</table>\n",
       "</div>"
      ],
      "text/plain": [
       "  memnbr        claim_id     provnbr  pres_fill_dt          ndc  days_suppl  \\\n",
       "0    NaN  3119954101280G  1427282516      20210128  57237004105           7   \n",
       "1    NaN  3551583101293G  1427282516      20210129  29300034901          90   \n",
       "2    NaN  3671413101292B  1427282516      20210129     88221905          12   \n",
       "\n",
       "  claim_status  metric_qty  disp_qty    prov_npi   pharm_npi source  src_ind  \n",
       "0            P       28000        28  1760779375  1427282516      P      NaN  \n",
       "1            P       90000        90  1598795395  1427282516      P      NaN  \n",
       "2            P        6000         6  1881015162  1427282516      P      NaN  "
      ]
     },
     "metadata": {}
    }
   ],
   "metadata": {}
  },
  {
   "cell_type": "code",
   "execution_count": 7,
   "source": [
    "df_inspect = df[['claim_id']].drop_duplicates()\\\r\n",
    "    .merge(df_prev[['claim_id']].drop_duplicates(), on='claim_id', how='left', indicator=True)\r\n",
    "\r\n",
    "n = df_inspect.query('_merge == \"left_only\"')['claim_id'].count()\r\n",
    "print(f'Current submission not found in previous submission: {n}')"
   ],
   "outputs": [
    {
     "output_type": "stream",
     "name": "stdout",
     "text": [
      "Current submission not found in previous submission: 16509\n"
     ]
    }
   ],
   "metadata": {}
  },
  {
   "cell_type": "code",
   "execution_count": 8,
   "source": [
    "df_inspect['_merge'].value_counts()"
   ],
   "outputs": [
    {
     "output_type": "execute_result",
     "data": {
      "text/plain": [
       "both          256713\n",
       "left_only      16509\n",
       "right_only         0\n",
       "Name: _merge, dtype: int64"
      ]
     },
     "metadata": {},
     "execution_count": 8
    }
   ],
   "metadata": {}
  },
  {
   "cell_type": "code",
   "execution_count": 9,
   "source": [
    "df_inspect = df_prev[['claim_id']].drop_duplicates()\\\r\n",
    "    .merge(df[['claim_id']].drop_duplicates(), on='claim_id', how='left', indicator=True)\r\n",
    "\r\n",
    "n = df_inspect.query('_merge == \"left_only\"')['claim_id'].count()\r\n",
    "print(f'Current submission not found in previous submission: {n}')"
   ],
   "outputs": [
    {
     "output_type": "stream",
     "name": "stdout",
     "text": [
      "Current submission not found in previous submission: 0\n"
     ]
    }
   ],
   "metadata": {}
  },
  {
   "cell_type": "code",
   "execution_count": 10,
   "source": [
    "df_inspect['_merge'].value_counts()"
   ],
   "outputs": [
    {
     "output_type": "execute_result",
     "data": {
      "text/plain": [
       "both          256713\n",
       "left_only          0\n",
       "right_only         0\n",
       "Name: _merge, dtype: int64"
      ]
     },
     "metadata": {},
     "execution_count": 10
    }
   ],
   "metadata": {}
  },
  {
   "cell_type": "code",
   "execution_count": null,
   "source": [],
   "outputs": [],
   "metadata": {}
  }
 ],
 "metadata": {
  "orig_nbformat": 4,
  "language_info": {
   "name": "python",
   "version": "3.9.6",
   "mimetype": "text/x-python",
   "codemirror_mode": {
    "name": "ipython",
    "version": 3
   },
   "pygments_lexer": "ipython3",
   "nbconvert_exporter": "python",
   "file_extension": ".py"
  },
  "kernelspec": {
   "name": "python3",
   "display_name": "Python 3.9.6 64-bit ('env': venv)"
  },
  "interpreter": {
   "hash": "b00f7e5edcc63529b2abc1a34045fc6bd059361ecc483f9e0ed37ebf4a504935"
  }
 },
 "nbformat": 4,
 "nbformat_minor": 2
}