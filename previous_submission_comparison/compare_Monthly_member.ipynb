{
 "cells": [
  {
   "cell_type": "markdown",
   "source": [
    "# Monthly Member Compare Current Pull with Last Submission"
   ],
   "metadata": {}
  },
  {
   "cell_type": "code",
   "execution_count": 1,
   "source": [
    "import pandas as pd\r\n",
    "pd.set_option('display.max_columns', None)"
   ],
   "outputs": [],
   "metadata": {}
  },
  {
   "cell_type": "code",
   "execution_count": 2,
   "source": [
    "file_name = 'Monthly_Mem_Data'\r\n",
    "\r\n",
    "path_prev = f'../data/past_submission/HP_{file_name}_20210921.txt'\r\n",
    "path_now = f'../output/HP_{file_name}_20211025.txt'\r\n",
    "\r\n",
    "dtype = {'dbllis_premium':str, 'dblrep_pop_id':str}\r\n",
    "\r\n",
    "df_prev = pd.read_csv(path_prev, sep='|', low_memory=False, dtype=dtype)\r\n",
    "df = pd.read_csv(path_now, sep='|', low_memory=False, dtype=dtype)"
   ],
   "outputs": [],
   "metadata": {}
  },
  {
   "cell_type": "code",
   "execution_count": 3,
   "source": [
    "print(df_prev.shape)\r\n",
    "display(df_prev.head(3))"
   ],
   "outputs": [
    {
     "output_type": "stream",
     "name": "stdout",
     "text": [
      "(113386, 9)\n"
     ]
    },
    {
     "output_type": "display_data",
     "data": {
      "text/html": [
       "<div>\n",
       "<style scoped>\n",
       "    .dataframe tbody tr th:only-of-type {\n",
       "        vertical-align: middle;\n",
       "    }\n",
       "\n",
       "    .dataframe tbody tr th {\n",
       "        vertical-align: top;\n",
       "    }\n",
       "\n",
       "    .dataframe thead th {\n",
       "        text-align: right;\n",
       "    }\n",
       "</style>\n",
       "<table border=\"1\" class=\"dataframe\">\n",
       "  <thead>\n",
       "    <tr style=\"text-align: right;\">\n",
       "      <th></th>\n",
       "      <th>dtmrun</th>\n",
       "      <th>dtmpayment</th>\n",
       "      <th>chvmemnbr</th>\n",
       "      <th>chvhospice</th>\n",
       "      <th>chvlti</th>\n",
       "      <th>dbllis_premium</th>\n",
       "      <th>dblorec</th>\n",
       "      <th>dblrep_pop_id</th>\n",
       "      <th>dblsrc_ind</th>\n",
       "    </tr>\n",
       "  </thead>\n",
       "  <tbody>\n",
       "    <tr>\n",
       "      <th>0</th>\n",
       "      <td>20191207</td>\n",
       "      <td>202001</td>\n",
       "      <td>1A05CC7XY50</td>\n",
       "      <td>N</td>\n",
       "      <td>N</td>\n",
       "      <td>0</td>\n",
       "      <td>0</td>\n",
       "      <td>14129</td>\n",
       "      <td>NaN</td>\n",
       "    </tr>\n",
       "    <tr>\n",
       "      <th>1</th>\n",
       "      <td>20191207</td>\n",
       "      <td>202001</td>\n",
       "      <td>1A16G46QH85</td>\n",
       "      <td>N</td>\n",
       "      <td>N</td>\n",
       "      <td>0</td>\n",
       "      <td>0</td>\n",
       "      <td>14129</td>\n",
       "      <td>NaN</td>\n",
       "    </tr>\n",
       "    <tr>\n",
       "      <th>2</th>\n",
       "      <td>20191207</td>\n",
       "      <td>202001</td>\n",
       "      <td>1A22H95CE94</td>\n",
       "      <td>N</td>\n",
       "      <td>N</td>\n",
       "      <td>0</td>\n",
       "      <td>1</td>\n",
       "      <td>14129</td>\n",
       "      <td>NaN</td>\n",
       "    </tr>\n",
       "  </tbody>\n",
       "</table>\n",
       "</div>"
      ],
      "text/plain": [
       "     dtmrun  dtmpayment    chvmemnbr chvhospice chvlti dbllis_premium  \\\n",
       "0  20191207      202001  1A05CC7XY50          N      N              0   \n",
       "1  20191207      202001  1A16G46QH85          N      N              0   \n",
       "2  20191207      202001  1A22H95CE94          N      N              0   \n",
       "\n",
       "   dblorec dblrep_pop_id  dblsrc_ind  \n",
       "0        0         14129         NaN  \n",
       "1        0         14129         NaN  \n",
       "2        1         14129         NaN  "
      ]
     },
     "metadata": {}
    }
   ],
   "metadata": {}
  },
  {
   "cell_type": "code",
   "execution_count": 4,
   "source": [
    "print(df.shape)\r\n",
    "display(df.head(3))"
   ],
   "outputs": [
    {
     "output_type": "stream",
     "name": "stdout",
     "text": [
      "(119967, 9)\n"
     ]
    },
    {
     "output_type": "display_data",
     "data": {
      "text/html": [
       "<div>\n",
       "<style scoped>\n",
       "    .dataframe tbody tr th:only-of-type {\n",
       "        vertical-align: middle;\n",
       "    }\n",
       "\n",
       "    .dataframe tbody tr th {\n",
       "        vertical-align: top;\n",
       "    }\n",
       "\n",
       "    .dataframe thead th {\n",
       "        text-align: right;\n",
       "    }\n",
       "</style>\n",
       "<table border=\"1\" class=\"dataframe\">\n",
       "  <thead>\n",
       "    <tr style=\"text-align: right;\">\n",
       "      <th></th>\n",
       "      <th>dtmrun</th>\n",
       "      <th>dtmpayment</th>\n",
       "      <th>chvmemnbr</th>\n",
       "      <th>chvhospice</th>\n",
       "      <th>chvlti</th>\n",
       "      <th>dbllis_premium</th>\n",
       "      <th>dblorec</th>\n",
       "      <th>dblrep_pop_id</th>\n",
       "      <th>dblsrc_ind</th>\n",
       "    </tr>\n",
       "  </thead>\n",
       "  <tbody>\n",
       "    <tr>\n",
       "      <th>0</th>\n",
       "      <td>20191207</td>\n",
       "      <td>202001</td>\n",
       "      <td>1A05CC7XY50</td>\n",
       "      <td>N</td>\n",
       "      <td>N</td>\n",
       "      <td>0</td>\n",
       "      <td>0</td>\n",
       "      <td>1010</td>\n",
       "      <td>NaN</td>\n",
       "    </tr>\n",
       "    <tr>\n",
       "      <th>1</th>\n",
       "      <td>20191207</td>\n",
       "      <td>202001</td>\n",
       "      <td>1A16G46QH85</td>\n",
       "      <td>N</td>\n",
       "      <td>N</td>\n",
       "      <td>0</td>\n",
       "      <td>0</td>\n",
       "      <td>1010</td>\n",
       "      <td>NaN</td>\n",
       "    </tr>\n",
       "    <tr>\n",
       "      <th>2</th>\n",
       "      <td>20191207</td>\n",
       "      <td>202001</td>\n",
       "      <td>1A22H95CE94</td>\n",
       "      <td>N</td>\n",
       "      <td>N</td>\n",
       "      <td>0</td>\n",
       "      <td>1</td>\n",
       "      <td>1010</td>\n",
       "      <td>NaN</td>\n",
       "    </tr>\n",
       "  </tbody>\n",
       "</table>\n",
       "</div>"
      ],
      "text/plain": [
       "     dtmrun  dtmpayment    chvmemnbr chvhospice chvlti dbllis_premium  \\\n",
       "0  20191207      202001  1A05CC7XY50          N      N              0   \n",
       "1  20191207      202001  1A16G46QH85          N      N              0   \n",
       "2  20191207      202001  1A22H95CE94          N      N              0   \n",
       "\n",
       "   dblorec dblrep_pop_id  dblsrc_ind  \n",
       "0        0          1010         NaN  \n",
       "1        0          1010         NaN  \n",
       "2        1          1010         NaN  "
      ]
     },
     "metadata": {}
    }
   ],
   "metadata": {}
  },
  {
   "cell_type": "code",
   "execution_count": 5,
   "source": [
    "df_inspect = df[['chvmemnbr']].drop_duplicates()\\\r\n",
    "    .merge(df_prev[['chvmemnbr']].drop_duplicates(), on='chvmemnbr', how='left', indicator=True)\r\n",
    "\r\n",
    "n = df_inspect.query('_merge == \"left_only\"')['chvmemnbr'].count()\r\n",
    "print(f'Current submission not found in previous submission: {n}')"
   ],
   "outputs": [
    {
     "output_type": "stream",
     "name": "stdout",
     "text": [
      "Current submission not found in previous submission: 183\n"
     ]
    }
   ],
   "metadata": {}
  },
  {
   "cell_type": "code",
   "execution_count": 6,
   "source": [
    "df_inspect['_merge'].value_counts()"
   ],
   "outputs": [
    {
     "output_type": "execute_result",
     "data": {
      "text/plain": [
       "both          11713\n",
       "left_only       183\n",
       "right_only        0\n",
       "Name: _merge, dtype: int64"
      ]
     },
     "metadata": {},
     "execution_count": 6
    }
   ],
   "metadata": {}
  },
  {
   "cell_type": "code",
   "execution_count": 7,
   "source": [
    "df_inspect = df_prev[['chvmemnbr']].drop_duplicates()\\\r\n",
    "    .merge(df[['chvmemnbr']].drop_duplicates(), on='chvmemnbr', how='left', indicator=True)\r\n",
    "\r\n",
    "n = df_inspect.query('_merge == \"left_only\"')['chvmemnbr'].count()\r\n",
    "print(f'Current submission not found in previous submission: {n}')"
   ],
   "outputs": [
    {
     "output_type": "stream",
     "name": "stdout",
     "text": [
      "Current submission not found in previous submission: 0\n"
     ]
    }
   ],
   "metadata": {}
  },
  {
   "cell_type": "code",
   "execution_count": 8,
   "source": [
    "df_inspect['_merge'].value_counts()"
   ],
   "outputs": [
    {
     "output_type": "execute_result",
     "data": {
      "text/plain": [
       "both          11713\n",
       "left_only         0\n",
       "right_only        0\n",
       "Name: _merge, dtype: int64"
      ]
     },
     "metadata": {},
     "execution_count": 8
    }
   ],
   "metadata": {}
  },
  {
   "cell_type": "code",
   "execution_count": null,
   "source": [],
   "outputs": [],
   "metadata": {}
  }
 ],
 "metadata": {
  "orig_nbformat": 4,
  "language_info": {
   "name": "python",
   "version": "3.9.6",
   "mimetype": "text/x-python",
   "codemirror_mode": {
    "name": "ipython",
    "version": 3
   },
   "pygments_lexer": "ipython3",
   "nbconvert_exporter": "python",
   "file_extension": ".py"
  },
  "kernelspec": {
   "name": "python3",
   "display_name": "Python 3.9.6 64-bit ('env': venv)"
  },
  "interpreter": {
   "hash": "b00f7e5edcc63529b2abc1a34045fc6bd059361ecc483f9e0ed37ebf4a504935"
  }
 },
 "nbformat": 4,
 "nbformat_minor": 2
}