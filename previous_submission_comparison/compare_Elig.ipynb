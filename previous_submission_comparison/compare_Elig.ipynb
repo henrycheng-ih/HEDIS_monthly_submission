{
 "cells": [
  {
   "cell_type": "markdown",
   "source": [
    "# Eligibility Compare Current Pull with Last Submission"
   ],
   "metadata": {}
  },
  {
   "cell_type": "code",
   "execution_count": 1,
   "source": [
    "import pandas as pd\r\n",
    "pd.set_option('display.max_columns', None)"
   ],
   "outputs": [],
   "metadata": {}
  },
  {
   "cell_type": "code",
   "execution_count": 3,
   "source": [
    "file_name = 'Elig'\r\n",
    "\r\n",
    "path_prev = f'../data/past_submission/HP_{file_name}_20210921.txt'\r\n",
    "path_now = f'../output/HP_{file_name}_20211025.txt'\r\n",
    "\r\n",
    "dtype = {'REP_POP_ID':str}\r\n",
    "\r\n",
    "df_prev = pd.read_csv(path_prev, sep='|', low_memory=False, dtype=dtype)\r\n",
    "df = pd.read_csv(path_now, sep='|', low_memory=False, dtype=dtype)"
   ],
   "outputs": [],
   "metadata": {}
  },
  {
   "cell_type": "code",
   "execution_count": 6,
   "source": [
    "print(df_prev.shape)\r\n",
    "display(df_prev.head(3))"
   ],
   "outputs": [
    {
     "output_type": "stream",
     "name": "stdout",
     "text": [
      "(15967, 18)\n"
     ]
    },
    {
     "output_type": "display_data",
     "data": {
      "text/html": [
       "<div>\n",
       "<style scoped>\n",
       "    .dataframe tbody tr th:only-of-type {\n",
       "        vertical-align: middle;\n",
       "    }\n",
       "\n",
       "    .dataframe tbody tr th {\n",
       "        vertical-align: top;\n",
       "    }\n",
       "\n",
       "    .dataframe thead th {\n",
       "        text-align: right;\n",
       "    }\n",
       "</style>\n",
       "<table border=\"1\" class=\"dataframe\">\n",
       "  <thead>\n",
       "    <tr style=\"text-align: right;\">\n",
       "      <th></th>\n",
       "      <th>memnbr</th>\n",
       "      <th>REP_POP_ID</th>\n",
       "      <th>PO_NBR</th>\n",
       "      <th>mcd_cat</th>\n",
       "      <th>SNPTYPE</th>\n",
       "      <th>elig_start</th>\n",
       "      <th>elig_end</th>\n",
       "      <th>delig_ind</th>\n",
       "      <th>hospice_ben</th>\n",
       "      <th>medical_ben</th>\n",
       "      <th>rx_ben</th>\n",
       "      <th>dental_ben</th>\n",
       "      <th>mh_inp_ben</th>\n",
       "      <th>mh_dn_ben</th>\n",
       "      <th>mh_outer_ben</th>\n",
       "      <th>cd_inp_ben</th>\n",
       "      <th>cd_dn_ben</th>\n",
       "      <th>cd_outer_ben</th>\n",
       "    </tr>\n",
       "  </thead>\n",
       "  <tbody>\n",
       "    <tr>\n",
       "      <th>0</th>\n",
       "      <td>1A05CC7XY50</td>\n",
       "      <td>14129</td>\n",
       "      <td>NaN</td>\n",
       "      <td>NaN</td>\n",
       "      <td>7</td>\n",
       "      <td>20200101</td>\n",
       "      <td>20201231</td>\n",
       "      <td>P</td>\n",
       "      <td>N</td>\n",
       "      <td>Y</td>\n",
       "      <td>Y</td>\n",
       "      <td>Y</td>\n",
       "      <td>Y</td>\n",
       "      <td>Y</td>\n",
       "      <td>Y</td>\n",
       "      <td>Y</td>\n",
       "      <td>Y</td>\n",
       "      <td>Y</td>\n",
       "    </tr>\n",
       "    <tr>\n",
       "      <th>1</th>\n",
       "      <td>1A14RA9QG85</td>\n",
       "      <td>14129</td>\n",
       "      <td>NaN</td>\n",
       "      <td>NaN</td>\n",
       "      <td>9</td>\n",
       "      <td>20210901</td>\n",
       "      <td>20991231</td>\n",
       "      <td>P</td>\n",
       "      <td>N</td>\n",
       "      <td>Y</td>\n",
       "      <td>Y</td>\n",
       "      <td>Y</td>\n",
       "      <td>Y</td>\n",
       "      <td>Y</td>\n",
       "      <td>Y</td>\n",
       "      <td>Y</td>\n",
       "      <td>Y</td>\n",
       "      <td>Y</td>\n",
       "    </tr>\n",
       "    <tr>\n",
       "      <th>2</th>\n",
       "      <td>1A15GQ4GY59</td>\n",
       "      <td>99999</td>\n",
       "      <td>NaN</td>\n",
       "      <td>NaN</td>\n",
       "      <td>11</td>\n",
       "      <td>20210101</td>\n",
       "      <td>20991231</td>\n",
       "      <td>P</td>\n",
       "      <td>N</td>\n",
       "      <td>Y</td>\n",
       "      <td>Y</td>\n",
       "      <td>Y</td>\n",
       "      <td>Y</td>\n",
       "      <td>Y</td>\n",
       "      <td>Y</td>\n",
       "      <td>Y</td>\n",
       "      <td>Y</td>\n",
       "      <td>Y</td>\n",
       "    </tr>\n",
       "  </tbody>\n",
       "</table>\n",
       "</div>"
      ],
      "text/plain": [
       "        memnbr REP_POP_ID  PO_NBR  mcd_cat  SNPTYPE  elig_start  elig_end  \\\n",
       "0  1A05CC7XY50      14129     NaN      NaN        7    20200101  20201231   \n",
       "1  1A14RA9QG85      14129     NaN      NaN        9    20210901  20991231   \n",
       "2  1A15GQ4GY59      99999     NaN      NaN       11    20210101  20991231   \n",
       "\n",
       "  delig_ind hospice_ben medical_ben rx_ben dental_ben mh_inp_ben mh_dn_ben  \\\n",
       "0         P           N           Y      Y          Y          Y         Y   \n",
       "1         P           N           Y      Y          Y          Y         Y   \n",
       "2         P           N           Y      Y          Y          Y         Y   \n",
       "\n",
       "  mh_outer_ben cd_inp_ben cd_dn_ben cd_outer_ben  \n",
       "0            Y          Y         Y            Y  \n",
       "1            Y          Y         Y            Y  \n",
       "2            Y          Y         Y            Y  "
      ]
     },
     "metadata": {}
    }
   ],
   "metadata": {}
  },
  {
   "cell_type": "code",
   "execution_count": 9,
   "source": [
    "print(df.shape)\r\n",
    "display(df.head(3))"
   ],
   "outputs": [
    {
     "output_type": "stream",
     "name": "stdout",
     "text": [
      "(16182, 18)\n"
     ]
    },
    {
     "output_type": "display_data",
     "data": {
      "text/html": [
       "<div>\n",
       "<style scoped>\n",
       "    .dataframe tbody tr th:only-of-type {\n",
       "        vertical-align: middle;\n",
       "    }\n",
       "\n",
       "    .dataframe tbody tr th {\n",
       "        vertical-align: top;\n",
       "    }\n",
       "\n",
       "    .dataframe thead th {\n",
       "        text-align: right;\n",
       "    }\n",
       "</style>\n",
       "<table border=\"1\" class=\"dataframe\">\n",
       "  <thead>\n",
       "    <tr style=\"text-align: right;\">\n",
       "      <th></th>\n",
       "      <th>memnbr</th>\n",
       "      <th>REP_POP_ID</th>\n",
       "      <th>PO_NBR</th>\n",
       "      <th>mcd_cat</th>\n",
       "      <th>SNPTYPE</th>\n",
       "      <th>elig_start</th>\n",
       "      <th>elig_end</th>\n",
       "      <th>delig_ind</th>\n",
       "      <th>hospice_ben</th>\n",
       "      <th>medical_ben</th>\n",
       "      <th>rx_ben</th>\n",
       "      <th>dental_ben</th>\n",
       "      <th>mh_inp_ben</th>\n",
       "      <th>mh_dn_ben</th>\n",
       "      <th>mh_outer_ben</th>\n",
       "      <th>cd_inp_ben</th>\n",
       "      <th>cd_dn_ben</th>\n",
       "      <th>cd_outer_ben</th>\n",
       "    </tr>\n",
       "  </thead>\n",
       "  <tbody>\n",
       "    <tr>\n",
       "      <th>0</th>\n",
       "      <td>1A05CC7XY50</td>\n",
       "      <td>14129</td>\n",
       "      <td>NaN</td>\n",
       "      <td>NaN</td>\n",
       "      <td>7</td>\n",
       "      <td>20200101</td>\n",
       "      <td>20201231</td>\n",
       "      <td>P</td>\n",
       "      <td>N</td>\n",
       "      <td>Y</td>\n",
       "      <td>Y</td>\n",
       "      <td>Y</td>\n",
       "      <td>Y</td>\n",
       "      <td>Y</td>\n",
       "      <td>Y</td>\n",
       "      <td>Y</td>\n",
       "      <td>Y</td>\n",
       "      <td>Y</td>\n",
       "    </tr>\n",
       "    <tr>\n",
       "      <th>1</th>\n",
       "      <td>1A14RA9QG85</td>\n",
       "      <td>14129</td>\n",
       "      <td>NaN</td>\n",
       "      <td>NaN</td>\n",
       "      <td>9</td>\n",
       "      <td>20210901</td>\n",
       "      <td>20991231</td>\n",
       "      <td>P</td>\n",
       "      <td>N</td>\n",
       "      <td>Y</td>\n",
       "      <td>Y</td>\n",
       "      <td>Y</td>\n",
       "      <td>Y</td>\n",
       "      <td>Y</td>\n",
       "      <td>Y</td>\n",
       "      <td>Y</td>\n",
       "      <td>Y</td>\n",
       "      <td>Y</td>\n",
       "    </tr>\n",
       "    <tr>\n",
       "      <th>2</th>\n",
       "      <td>1A15GQ4GY59</td>\n",
       "      <td>99999</td>\n",
       "      <td>NaN</td>\n",
       "      <td>NaN</td>\n",
       "      <td>11</td>\n",
       "      <td>20210101</td>\n",
       "      <td>20991231</td>\n",
       "      <td>P</td>\n",
       "      <td>N</td>\n",
       "      <td>Y</td>\n",
       "      <td>Y</td>\n",
       "      <td>Y</td>\n",
       "      <td>Y</td>\n",
       "      <td>Y</td>\n",
       "      <td>Y</td>\n",
       "      <td>Y</td>\n",
       "      <td>Y</td>\n",
       "      <td>Y</td>\n",
       "    </tr>\n",
       "  </tbody>\n",
       "</table>\n",
       "</div>"
      ],
      "text/plain": [
       "        memnbr REP_POP_ID  PO_NBR  mcd_cat  SNPTYPE  elig_start  elig_end  \\\n",
       "0  1A05CC7XY50      14129     NaN      NaN        7    20200101  20201231   \n",
       "1  1A14RA9QG85      14129     NaN      NaN        9    20210901  20991231   \n",
       "2  1A15GQ4GY59      99999     NaN      NaN       11    20210101  20991231   \n",
       "\n",
       "  delig_ind hospice_ben medical_ben rx_ben dental_ben mh_inp_ben mh_dn_ben  \\\n",
       "0         P           N           Y      Y          Y          Y         Y   \n",
       "1         P           N           Y      Y          Y          Y         Y   \n",
       "2         P           N           Y      Y          Y          Y         Y   \n",
       "\n",
       "  mh_outer_ben cd_inp_ben cd_dn_ben cd_outer_ben  \n",
       "0            Y          Y         Y            Y  \n",
       "1            Y          Y         Y            Y  \n",
       "2            Y          Y         Y            Y  "
      ]
     },
     "metadata": {}
    }
   ],
   "metadata": {}
  },
  {
   "cell_type": "code",
   "execution_count": 10,
   "source": [
    "df_inspect = df[['memnbr']].drop_duplicates()\\\r\n",
    "    .merge(df_prev[['memnbr']].drop_duplicates(), on='memnbr', how='left', indicator=True)\r\n",
    "\r\n",
    "n = df_inspect.query('_merge == \"left_only\"')['memnbr'].count()\r\n",
    "print(f'Current submission not found in previous submission: {n}')"
   ],
   "outputs": [
    {
     "output_type": "stream",
     "name": "stdout",
     "text": [
      "Current submission not found in previous submission: 160\n"
     ]
    }
   ],
   "metadata": {}
  },
  {
   "cell_type": "code",
   "execution_count": 11,
   "source": [
    "df_inspect['_merge'].value_counts()"
   ],
   "outputs": [
    {
     "output_type": "execute_result",
     "data": {
      "text/plain": [
       "both          11671\n",
       "left_only       160\n",
       "right_only        0\n",
       "Name: _merge, dtype: int64"
      ]
     },
     "metadata": {},
     "execution_count": 11
    }
   ],
   "metadata": {}
  },
  {
   "cell_type": "code",
   "execution_count": 12,
   "source": [
    "df_inspect = df_prev[['memnbr']].drop_duplicates()\\\r\n",
    "    .merge(df[['memnbr']].drop_duplicates(), on='memnbr', how='left', indicator=True)\r\n",
    "\r\n",
    "n = df_inspect.query('_merge == \"left_only\"')['memnbr'].count()\r\n",
    "print(f'Current submission not found in previous submission: {n}')"
   ],
   "outputs": [
    {
     "output_type": "stream",
     "name": "stdout",
     "text": [
      "Current submission not found in previous submission: 14\n"
     ]
    }
   ],
   "metadata": {}
  },
  {
   "cell_type": "code",
   "execution_count": 13,
   "source": [
    "df_inspect['_merge'].value_counts()"
   ],
   "outputs": [
    {
     "output_type": "execute_result",
     "data": {
      "text/plain": [
       "both          11671\n",
       "left_only        14\n",
       "right_only        0\n",
       "Name: _merge, dtype: int64"
      ]
     },
     "metadata": {},
     "execution_count": 13
    }
   ],
   "metadata": {}
  },
  {
   "cell_type": "code",
   "execution_count": null,
   "source": [],
   "outputs": [],
   "metadata": {}
  }
 ],
 "metadata": {
  "orig_nbformat": 4,
  "language_info": {
   "name": "python",
   "version": "3.9.6",
   "mimetype": "text/x-python",
   "codemirror_mode": {
    "name": "ipython",
    "version": 3
   },
   "pygments_lexer": "ipython3",
   "nbconvert_exporter": "python",
   "file_extension": ".py"
  },
  "kernelspec": {
   "name": "python3",
   "display_name": "Python 3.9.6 64-bit ('env': venv)"
  },
  "interpreter": {
   "hash": "b00f7e5edcc63529b2abc1a34045fc6bd059361ecc483f9e0ed37ebf4a504935"
  }
 },
 "nbformat": 4,
 "nbformat_minor": 2
}