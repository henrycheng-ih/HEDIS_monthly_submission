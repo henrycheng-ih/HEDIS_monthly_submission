{
 "cells": [
  {
   "cell_type": "markdown",
   "source": [
    "# Member Month File Validation"
   ],
   "metadata": {}
  },
  {
   "cell_type": "code",
   "execution_count": 1,
   "source": [
    "import pandas as pd\r\n",
    "pd.set_option(\"display.max_columns\", None)"
   ],
   "outputs": [],
   "metadata": {}
  },
  {
   "cell_type": "code",
   "execution_count": 8,
   "source": [
    "# read last month's submission\r\n",
    "path_past_month = '../data/past_submission/HP_Monthly_Mem_Data_20210921.txt'\r\n",
    "dtype = {'dblrep_pop_id':str, 'dbllis_premium':str}\r\n",
    "df = pd.read_csv(path_past_month, sep='|', dtype=dtype)\r\n",
    "df.head(3)"
   ],
   "outputs": [
    {
     "output_type": "execute_result",
     "data": {
      "text/html": [
       "<div>\n",
       "<style scoped>\n",
       "    .dataframe tbody tr th:only-of-type {\n",
       "        vertical-align: middle;\n",
       "    }\n",
       "\n",
       "    .dataframe tbody tr th {\n",
       "        vertical-align: top;\n",
       "    }\n",
       "\n",
       "    .dataframe thead th {\n",
       "        text-align: right;\n",
       "    }\n",
       "</style>\n",
       "<table border=\"1\" class=\"dataframe\">\n",
       "  <thead>\n",
       "    <tr style=\"text-align: right;\">\n",
       "      <th></th>\n",
       "      <th>dtmrun</th>\n",
       "      <th>dtmpayment</th>\n",
       "      <th>chvmemnbr</th>\n",
       "      <th>chvhospice</th>\n",
       "      <th>chvlti</th>\n",
       "      <th>dbllis_premium</th>\n",
       "      <th>dblorec</th>\n",
       "      <th>dblrep_pop_id</th>\n",
       "      <th>dblsrc_ind</th>\n",
       "    </tr>\n",
       "  </thead>\n",
       "  <tbody>\n",
       "    <tr>\n",
       "      <th>0</th>\n",
       "      <td>20191207</td>\n",
       "      <td>202001</td>\n",
       "      <td>1A05CC7XY50</td>\n",
       "      <td>N</td>\n",
       "      <td>N</td>\n",
       "      <td>0</td>\n",
       "      <td>0</td>\n",
       "      <td>14129</td>\n",
       "      <td>NaN</td>\n",
       "    </tr>\n",
       "    <tr>\n",
       "      <th>1</th>\n",
       "      <td>20191207</td>\n",
       "      <td>202001</td>\n",
       "      <td>1A16G46QH85</td>\n",
       "      <td>N</td>\n",
       "      <td>N</td>\n",
       "      <td>0</td>\n",
       "      <td>0</td>\n",
       "      <td>14129</td>\n",
       "      <td>NaN</td>\n",
       "    </tr>\n",
       "    <tr>\n",
       "      <th>2</th>\n",
       "      <td>20191207</td>\n",
       "      <td>202001</td>\n",
       "      <td>1A22H95CE94</td>\n",
       "      <td>N</td>\n",
       "      <td>N</td>\n",
       "      <td>0</td>\n",
       "      <td>1</td>\n",
       "      <td>14129</td>\n",
       "      <td>NaN</td>\n",
       "    </tr>\n",
       "  </tbody>\n",
       "</table>\n",
       "</div>"
      ],
      "text/plain": [
       "     dtmrun  dtmpayment    chvmemnbr chvhospice chvlti dbllis_premium  \\\n",
       "0  20191207      202001  1A05CC7XY50          N      N              0   \n",
       "1  20191207      202001  1A16G46QH85          N      N              0   \n",
       "2  20191207      202001  1A22H95CE94          N      N              0   \n",
       "\n",
       "   dblorec dblrep_pop_id  dblsrc_ind  \n",
       "0        0         14129         NaN  \n",
       "1        0         14129         NaN  \n",
       "2        1         14129         NaN  "
      ]
     },
     "metadata": {},
     "execution_count": 8
    }
   ],
   "metadata": {}
  },
  {
   "cell_type": "code",
   "execution_count": null,
   "source": [],
   "outputs": [],
   "metadata": {}
  }
 ],
 "metadata": {
  "orig_nbformat": 4,
  "language_info": {
   "name": "python",
   "version": "3.9.6",
   "mimetype": "text/x-python",
   "codemirror_mode": {
    "name": "ipython",
    "version": 3
   },
   "pygments_lexer": "ipython3",
   "nbconvert_exporter": "python",
   "file_extension": ".py"
  },
  "kernelspec": {
   "name": "python3",
   "display_name": "Python 3.9.6 64-bit ('env': venv)"
  },
  "interpreter": {
   "hash": "b00f7e5edcc63529b2abc1a34045fc6bd059361ecc483f9e0ed37ebf4a504935"
  }
 },
 "nbformat": 4,
 "nbformat_minor": 2
}